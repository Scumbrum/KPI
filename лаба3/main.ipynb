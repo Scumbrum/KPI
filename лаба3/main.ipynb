{
 "cells": [
  {
   "cell_type": "code",
   "execution_count": null,
   "id": "b388ab73",
   "metadata": {
    "pycharm": {
     "is_executing": true,
     "name": "#%%\n"
    }
   },
   "outputs": [],
   "source": [
    "import chess\n",
    "import chess.svg\n",
    "from IPython.display import SVG, display\n",
    "import math"
   ]
  },
  {
   "cell_type": "code",
   "execution_count": null,
   "id": "92d06976",
   "metadata": {
    "pycharm": {
     "is_executing": true,
     "name": "#%%\n"
    }
   },
   "outputs": [],
   "source": [
    "pawn = 100\n",
    "knight = 300\n",
    "bishop = 300\n",
    "rook = 500\n",
    "queen = 900\n",
    "king = 2500\n",
    "mobilityWeight = 10\n",
    "board = chess.Board()"
   ]
  },
  {
   "cell_type": "code",
   "execution_count": null,
   "id": "02c9ce67",
   "metadata": {
    "pycharm": {
     "is_executing": true,
     "name": "#%%\n"
    }
   },
   "outputs": [],
   "source": [
    "board"
   ]
  },
  {
   "cell_type": "code",
   "execution_count": null,
   "id": "8bad00c1",
   "metadata": {
    "pycharm": {
     "is_executing": true,
     "name": "#%%\n"
    }
   },
   "outputs": [],
   "source": [
    "def evaluate(voard, turn):\n",
    "    mobility1 = len(list(board.legal_moves))\n",
    "    \n",
    "    board.push(chess.Move.null())\n",
    "    mobility2 = len(list(board.legal_moves))\n",
    "    board.pop()\n",
    "    mobility = mobilityWeight * (mobility1 - mobility2)\n",
    "    if (board.turn != turn):\n",
    "        mobility = -mobility\n",
    "\n",
    "    if not turn:\n",
    "        return evaluateWhite(board) - evaluateBlack(board) + mobility\n",
    "    return evaluateBlack(board) - evaluateWhite(board) + mobility\n",
    "\n",
    "\n",
    "def evaluateBlack(board):\n",
    "    blackpawns = len(board.pieces(1,0))\n",
    "    blackknights = len(board.pieces(2,0))\n",
    "    blackbishops = len(board.pieces(3,0))\n",
    "    blackrooks = len(board.pieces(4,0))\n",
    "    blackqueens = len(board.pieces(5,0))\n",
    "    blackking = len(board.pieces(6,0))\n",
    "    blackmaterial = pawn*blackpawns + knight*blackknights + bishop*blackbishops + \\\n",
    "                    rook*blackrooks + queen*blackqueens +king*blackking\n",
    "    \n",
    "    return blackmaterial\n",
    "\n",
    "def evaluateWhite(board):\n",
    "    whitepawns = len(board.pieces(1,1))\n",
    "    whiteknights = len(board.pieces(2,1))\n",
    "    whitebishops = len(board.pieces(3,1))\n",
    "    whiterooks = len(board.pieces(4,1))\n",
    "    whitequeens = len(board.pieces(5,1))\n",
    "    whiteking = len(board.pieces(6,1))\n",
    "    whitematerial = pawn*whitepawns + knight*whiteknights + bishop*whitebishops + \\\n",
    "                    rook*whiterooks + queen*whitequeens +king*whiteking\n",
    "\n",
    "    return whitematerial"
   ]
  },
  {
   "cell_type": "code",
   "execution_count": null,
   "id": "da16623b",
   "metadata": {
    "pycharm": {
     "name": "#%%\n"
    }
   },
   "outputs": [],
   "source": [
    "def getListOfMoves(board, otherSide=False):\n",
    "    moves = None\n",
    "    if otherSide:\n",
    "        board.push(chess.Move.null())\n",
    "        moves = list(map(str, list(board.legal_moves)))\n",
    "        board.pop()\n",
    "    else:\n",
    "        moves = list(map(str, list(board.legal_moves)))\n",
    "    return moves\n",
    "    "
   ]
  },
  {
   "cell_type": "code",
   "execution_count": null,
   "id": "77370208",
   "metadata": {
    "pycharm": {
     "name": "#%%\n"
    }
   },
   "outputs": [],
   "source": [
    "def useNegaMax(board, depth):\n",
    "    if depth == 0:\n",
    "        return evaluate(board, board.turn)\n",
    "    maxValue = -math.inf\n",
    "    bestMove = None     \n",
    "    for move in getListOfMoves(board):\n",
    "        boardCopy = board.copy()\n",
    "        boardCopy.push_uci(move)\n",
    "        value = -useNegaMax(boardCopy, depth)\n",
    "        if value > maxValue:\n",
    "            maxValue = value\n",
    "            bestMove = move\n",
    "    return bestMove"
   ]
  },
  {
   "cell_type": "code",
   "execution_count": null,
   "id": "d5038e41",
   "metadata": {
    "pycharm": {
     "name": "#%%\n"
    }
   },
   "outputs": [],
   "source": [
    "def useNegaScout(board, depth, alpha = -math.inf, beta = math.inf):\n",
    "    if depth == 0:\n",
    "        return evaluate(board, board.turn)\n",
    "    minimum = -math.inf\n",
    "    high = beta\n",
    "    for move in getListOfMoves(board):\n",
    "        boardCopy = board.copy()\n",
    "        boardCopy.push_uci(move)\n",
    "        value = -useNegaScout(boardCopy, depth - 1, -high, -max(alpha, minimum))\n",
    "        if value > minimum:\n",
    "            if (high == beta or depth < 3 or value >= beta):\n",
    "                minimum = value\n",
    "            else:\n",
    "                minimum = -useNegaScout(boardCopy, depth - 1, -beta, -value)\n",
    "        if minimum >= beta:\n",
    "            return minimum\n",
    "        high = max(alpha, minimum) + 1\n",
    "    return minimum\n",
    "                "
   ]
  },
  {
   "cell_type": "code",
   "execution_count": null,
   "id": "2e07bd79",
   "metadata": {
    "pycharm": {
     "name": "#%%\n"
    }
   },
   "outputs": [],
   "source": [
    "def usePVS(board, depth, alpha=-math.inf, beta=math.inf):\n",
    "    if depth == 0:\n",
    "        return [None, evaluate(board, board.turn)]\n",
    "    \n",
    "    minimum = -math.inf\n",
    "    high = beta\n",
    "    for move in getListOfMoves(board):\n",
    "        boardCopy = board.copy()\n",
    "        boardCopy.push_uci(move)\n",
    "        value = -usePVS(boardCopy, depth - 1, -high, -max(alpha, minimum))[1]\n",
    "        if value > minimum:\n",
    "            minimum = -usePVS(boardCopy, depth - 1, -beta, -alpha)[1]\n",
    "        if minimum >= beta:\n",
    "            return [move, minimum]\n",
    "        high = max(alpha, minimum) + 1\n",
    "    return [move, minimum]\n",
    "                "
   ]
  },
  {
   "cell_type": "code",
   "execution_count": null,
   "id": "c6a65ed2",
   "metadata": {
    "pycharm": {
     "name": "#%%\n"
    }
   },
   "outputs": [],
   "source": [
    "board = chess.Board()\n",
    "for i in range(10):\n",
    "    move = usePVS(board, 2)[0]\n",
    "    print(move)\n",
    "    if not i % 2:\n",
    "        print(\"White: \", move)\n",
    "    else:\n",
    "        print(\"Black: \", move)\n",
    "    board.push_uci(move)\n",
    "board"
   ]
  }
 ],
 "metadata": {
  "kernelspec": {
   "display_name": "Python 3",
   "language": "python",
   "name": "python3"
  },
  "language_info": {
   "codemirror_mode": {
    "name": "ipython",
    "version": 3
   },
   "file_extension": ".py",
   "mimetype": "text/x-python",
   "name": "python",
   "nbconvert_exporter": "python",
   "pygments_lexer": "ipython3",
   "version": "3.10.9 (tags/v3.10.9:1dd9be6, Dec  6 2022, 20:01:21) [MSC v.1934 64 bit (AMD64)]"
  },
  "vscode": {
   "interpreter": {
    "hash": "c813ac0529ad8aa3a599245ec8cf1c2004d94139568d269f9c5835e56f8fa2b6"
   }
  }
 },
 "nbformat": 4,
 "nbformat_minor": 5
}
